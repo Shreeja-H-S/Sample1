{
  "nbformat": 4,
  "nbformat_minor": 0,
  "metadata": {
    "colab": {
      "provenance": [],
      "authorship_tag": "ABX9TyPj/kqyXhV7XAdx/AAtGg+q",
      "include_colab_link": true
    },
    "kernelspec": {
      "name": "python3",
      "display_name": "Python 3"
    },
    "language_info": {
      "name": "python"
    }
  },
  "cells": [
    {
      "cell_type": "markdown",
      "metadata": {
        "id": "view-in-github",
        "colab_type": "text"
      },
      "source": [
        "<a href=\"https://colab.research.google.com/github/Shreeja-H-S/Sample1/blob/master/shreeja.ipynb\" target=\"_parent\"><img src=\"https://colab.research.google.com/assets/colab-badge.svg\" alt=\"Open In Colab\"/></a>"
      ]
    },
    {
      "cell_type": "code",
      "execution_count": 1,
      "metadata": {
        "colab": {
          "base_uri": "https://localhost:8080/"
        },
        "id": "_mxlJde-hkHz",
        "outputId": "9160a8ab-a89b-4ea4-c2db-0208b63cbc4e"
      },
      "outputs": [
        {
          "output_type": "stream",
          "name": "stdout",
          "text": [
            "Enter the first number: 4\n",
            "Enter the second number: 6\n",
            "Before swapping: num1 = 4.0, num2 = 6.0\n",
            "After swapping: num1 = 6.0, num2 = 4.0\n"
          ]
        }
      ],
      "source": [
        "# Input two numbers\n",
        "num1 = float(input(\"Enter the first number: \"))\n",
        "num2 = float(input(\"Enter the second number: \"))\n",
        "\n",
        "# Display original numbers\n",
        "print(f\"Before swapping: num1 = {num1}, num2 = {num2}\")\n",
        "\n",
        "# Swap using a temporary variable\n",
        "temp = num1\n",
        "num1 = num2\n",
        "num2 = temp\n",
        "\n",
        "# Display swapped numbers\n",
        "print(f\"After swapping: num1 = {num1}, num2 = {num2}\")\n"
      ]
    }
  ]
}